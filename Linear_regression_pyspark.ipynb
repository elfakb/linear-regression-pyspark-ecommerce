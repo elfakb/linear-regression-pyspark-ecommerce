{
 "cells": [
  {
   "cell_type": "markdown",
   "id": "0632585d",
   "metadata": {},
   "source": [
    "The goal is to develop a linear regression model capable of predicting the annual spending of e-commerce customers using their data."
   ]
  },
  {
   "cell_type": "code",
   "execution_count": 1,
   "id": "477847b6",
   "metadata": {},
   "outputs": [],
   "source": [
    "#Starting a spark session \n",
    "\n",
    "from pyspark.sql import SparkSession\n",
    "spark = SparkSession.builder.appName('eCommerce_linear_regression_code').getOrCreate()"
   ]
  },
  {
   "cell_type": "code",
   "execution_count": 2,
   "id": "3b37456d",
   "metadata": {},
   "outputs": [],
   "source": [
    "#import regression modules \n",
    "\n",
    "from pyspark.ml.regression import LinearRegression"
   ]
  },
  {
   "cell_type": "code",
   "execution_count": 3,
   "id": "8cdd2db4",
   "metadata": {},
   "outputs": [],
   "source": [
    "#read csv file of ecommerce data \n",
    "data = spark.read.csv(\"Ecommerce_Customers.csv\", inferSchema = True, header = True)"
   ]
  },
  {
   "cell_type": "code",
   "execution_count": 4,
   "id": "4364a8a8",
   "metadata": {},
   "outputs": [
    {
     "name": "stdout",
     "output_type": "stream",
     "text": [
      "root\n",
      " |-- Email: string (nullable = true)\n",
      " |-- Address: string (nullable = true)\n",
      " |-- Avatar: string (nullable = true)\n",
      " |-- Avg Session Length: double (nullable = true)\n",
      " |-- Time on App: double (nullable = true)\n",
      " |-- Time on Website: double (nullable = true)\n",
      " |-- Length of Membership: double (nullable = true)\n",
      " |-- Yearly Amount Spent: double (nullable = true)\n",
      "\n"
     ]
    }
   ],
   "source": [
    "data.printSchema()"
   ]
  },
  {
   "cell_type": "code",
   "execution_count": 5,
   "id": "56aeae26",
   "metadata": {},
   "outputs": [
    {
     "name": "stdout",
     "output_type": "stream",
     "text": [
      "mstephenson@fernandez.com\n",
      "835 Frank TunnelWrightmouth, MI 82180-9605\n",
      "Violet\n",
      "34.49726772511229\n",
      "12.65565114916675\n",
      "39.57766801952616\n",
      "4.0826206329529615\n",
      "587.9510539684005\n"
     ]
    }
   ],
   "source": [
    "#one row of this data frame contains \n",
    "for column in data.head():\n",
    "    print(column)"
   ]
  },
  {
   "cell_type": "code",
   "execution_count": 6,
   "id": "cee4eee2",
   "metadata": {},
   "outputs": [],
   "source": [
    "from pyspark.ml.linalg import Vectors\n",
    "from pyspark.ml.feature import VectorAssembler"
   ]
  },
  {
   "cell_type": "code",
   "execution_count": 7,
   "id": "e83143ae",
   "metadata": {},
   "outputs": [
    {
     "data": {
      "text/plain": [
       "['Email',\n",
       " 'Address',\n",
       " 'Avatar',\n",
       " 'Avg Session Length',\n",
       " 'Time on App',\n",
       " 'Time on Website',\n",
       " 'Length of Membership',\n",
       " 'Yearly Amount Spent']"
      ]
     },
     "execution_count": 7,
     "metadata": {},
     "output_type": "execute_result"
    }
   ],
   "source": [
    "data.columns"
   ]
  },
  {
   "cell_type": "code",
   "execution_count": 8,
   "id": "600c7c67",
   "metadata": {},
   "outputs": [],
   "source": [
    "#copy the variables from data.columns\n",
    "\n",
    "assembler = VectorAssembler(\n",
    "    inputCols = [\n",
    " 'Avg Session Length',\n",
    " 'Time on App',\n",
    " 'Time on Website',\n",
    " 'Length of Membership'],\n",
    "outputCol = 'features')"
   ]
  },
  {
   "cell_type": "code",
   "execution_count": 9,
   "id": "0c359a54",
   "metadata": {},
   "outputs": [],
   "source": [
    "#transforming data with assambler \n",
    "\n",
    "output = assembler.transform(data)"
   ]
  },
  {
   "cell_type": "code",
   "execution_count": 10,
   "id": "2bded3e5",
   "metadata": {},
   "outputs": [
    {
     "name": "stdout",
     "output_type": "stream",
     "text": [
      "+--------------------+\n",
      "|            features|\n",
      "+--------------------+\n",
      "|[34.4972677251122...|\n",
      "|[31.9262720263601...|\n",
      "|[33.0009147556426...|\n",
      "|[34.3055566297555...|\n",
      "|[33.3306725236463...|\n",
      "|[33.8710378793419...|\n",
      "|[32.0215955013870...|\n",
      "|[32.7391429383803...|\n",
      "|[33.9877728956856...|\n",
      "|[31.9365486184489...|\n",
      "|[33.9925727749537...|\n",
      "|[33.8793608248049...|\n",
      "|[29.5324289670579...|\n",
      "|[33.1903340437226...|\n",
      "|[32.3879758531538...|\n",
      "|[30.7377203726281...|\n",
      "|[32.1253868972878...|\n",
      "|[32.3388993230671...|\n",
      "|[32.1878120459321...|\n",
      "|[32.6178560628234...|\n",
      "+--------------------+\n",
      "only showing top 20 rows\n"
     ]
    }
   ],
   "source": [
    "output.select(\"features\").show()"
   ]
  },
  {
   "cell_type": "code",
   "execution_count": 11,
   "id": "37de2be1",
   "metadata": {},
   "outputs": [],
   "source": [
    "final_data = output.select(\"features\",\"Yearly Amount Spent\")\n",
    "#Select only the columns needed for the model"
   ]
  },
  {
   "cell_type": "code",
   "execution_count": 12,
   "id": "8ca5767e",
   "metadata": {},
   "outputs": [],
   "source": [
    "train_data , test_data = final_data.randomSplit([0.7,0.3])"
   ]
  },
  {
   "cell_type": "code",
   "execution_count": 13,
   "id": "16dcf4fd",
   "metadata": {},
   "outputs": [
    {
     "name": "stdout",
     "output_type": "stream",
     "text": [
      "+-------+-------------------+\n",
      "|summary|Yearly Amount Spent|\n",
      "+-------+-------------------+\n",
      "|  count|                363|\n",
      "|   mean|  498.9929613909979|\n",
      "| stddev|  78.28859768782743|\n",
      "|    min|  275.9184206503857|\n",
      "|    max|  765.5184619388373|\n",
      "+-------+-------------------+\n",
      "\n",
      "+-------+-------------------+\n",
      "|summary|Yearly Amount Spent|\n",
      "+-------+-------------------+\n",
      "|  count|                137|\n",
      "|   mean|  500.1647747763734|\n",
      "| stddev|  82.25918670978157|\n",
      "|    min| 256.67058229005585|\n",
      "|    max|  689.7876041747194|\n",
      "+-------+-------------------+\n",
      "\n"
     ]
    }
   ],
   "source": [
    "train_data.describe().show()\n",
    "test_data.describe().show()"
   ]
  },
  {
   "cell_type": "code",
   "execution_count": 14,
   "id": "94d2c6f2",
   "metadata": {},
   "outputs": [],
   "source": [
    "# crating linear regression model \n",
    "lr = LinearRegression(labelCol = 'Yearly Amount Spent')"
   ]
  },
  {
   "cell_type": "code",
   "execution_count": 15,
   "id": "140b26c2",
   "metadata": {},
   "outputs": [],
   "source": [
    "#fit the model to the data\n",
    "lrModel = lr.fit(train_data)"
   ]
  },
  {
   "cell_type": "code",
   "execution_count": 17,
   "id": "f7f6f29a",
   "metadata": {},
   "outputs": [
    {
     "name": "stdout",
     "output_type": "stream",
     "text": [
      "Coefficients: [25.894909615449045,38.92661668714369,0.3079099718095319,61.69883872216042] Intercept: -1055.8501943366462\n"
     ]
    }
   ],
   "source": [
    "# Print the coefficients and intercept for linear regression\n",
    "# Coefficients (slope) → Show how much each independent variable (feature) influences the target variable.\n",
    "# Intercept (y-intercept) → The predicted value of the target variable when all independent variables are zero.\n",
    "print(\"Coefficients: {} Intercept: {}\".format(lrModel.coefficients , lrModel.intercept))"
   ]
  },
  {
   "cell_type": "code",
   "execution_count": 19,
   "id": "0ca96c56",
   "metadata": {},
   "outputs": [
    {
     "name": "stdout",
     "output_type": "stream",
     "text": [
      "+-------------------+\n",
      "|          residuals|\n",
      "+-------------------+\n",
      "|-15.668293939938962|\n",
      "|  5.931884512719421|\n",
      "| -6.796395425350738|\n",
      "| 10.827845034991924|\n",
      "|  22.59827762503278|\n",
      "| 20.072155557309827|\n",
      "|  4.659836629955521|\n",
      "|-3.3757174457944075|\n",
      "| 3.6862353030109603|\n",
      "|-6.3101243391382695|\n",
      "| -7.864030810325119|\n",
      "|-17.248181870236976|\n",
      "| 17.818248722904684|\n",
      "|-3.7200765279747543|\n",
      "| -1.398680583558587|\n",
      "|   8.64345217199201|\n",
      "|  8.922378637352779|\n",
      "|-1.5441588474657237|\n",
      "| -9.733319473629876|\n",
      "|-16.438005686716735|\n",
      "+-------------------+\n",
      "only showing top 20 rows\n"
     ]
    }
   ],
   "source": [
    "# Evaluate the model on the test data\n",
    "test_results = lrModel.evaluate(test_data)\n",
    "test_results.residuals.show()"
   ]
  },
  {
   "cell_type": "code",
   "execution_count": 20,
   "id": "9dedc224",
   "metadata": {},
   "outputs": [],
   "source": [
    "unlabeled_data = test_data.select('features')"
   ]
  },
  {
   "cell_type": "code",
   "execution_count": 21,
   "id": "48544f49",
   "metadata": {},
   "outputs": [],
   "source": [
    "predictions = lrModel.transform(unlabeled_data)\n",
    "# Make predictions using the trained model"
   ]
  },
  {
   "cell_type": "code",
   "execution_count": 22,
   "id": "bad053f0",
   "metadata": {},
   "outputs": [
    {
     "name": "stdout",
     "output_type": "stream",
     "text": [
      "+--------------------+------------------+\n",
      "|            features|        prediction|\n",
      "+--------------------+------------------+\n",
      "|[30.8162006488763...|281.75463488840796|\n",
      "|[31.0472221394875...|  386.565514676302|\n",
      "|[31.1280900496166...| 564.0490821724054|\n",
      "|[31.1695067987115...| 416.5286857673009|\n",
      "|[31.2834474760581...| 569.1828118006347|\n",
      "|[31.3123495994443...| 443.5192624706308|\n",
      "|[31.3584771924370...| 490.5161138195199|\n",
      "|[31.4252268808548...| 534.1424361005563|\n",
      "|[31.4459724827577...| 481.1907296321176|\n",
      "|[31.4474464941278...| 424.9128664343623|\n",
      "|[31.5261978982398...|416.95855700266293|\n",
      "|[31.5702008293202...| 563.1936740116419|\n",
      "|[31.6098395733896...| 426.7273009282035|\n",
      "|[31.6253601348306...|380.05697728489895|\n",
      "|[31.8186165667690...|447.81735395369424|\n",
      "|[31.8209982016720...|416.03182884122134|\n",
      "|[31.8512531286083...| 464.0698680294456|\n",
      "|[31.8530748017465...| 460.8292823098177|\n",
      "|[31.8648325480987...|449.62459995044355|\n",
      "|[31.9048571310136...| 490.3878631095329|\n",
      "+--------------------+------------------+\n",
      "only showing top 20 rows\n"
     ]
    }
   ],
   "source": [
    "predictions.show()"
   ]
  },
  {
   "cell_type": "code",
   "execution_count": 23,
   "id": "4298106f",
   "metadata": {},
   "outputs": [
    {
     "name": "stdout",
     "output_type": "stream",
     "text": [
      "RMSE: 10.620653738711452\n",
      "MSE: 112.79828583760553\n"
     ]
    }
   ],
   "source": [
    "print(\"RMSE: {}\".format(test_results.rootMeanSquaredError))\n",
    "print(\"MSE: {}\".format(test_results.meanSquaredError))\n"
   ]
  },
  {
   "cell_type": "code",
   "execution_count": null,
   "id": "1daec325",
   "metadata": {},
   "outputs": [],
   "source": []
  }
 ],
 "metadata": {
  "kernelspec": {
   "display_name": "Python 3 (ipykernel)",
   "language": "python",
   "name": "python3"
  },
  "language_info": {
   "codemirror_mode": {
    "name": "ipython",
    "version": 3
   },
   "file_extension": ".py",
   "mimetype": "text/x-python",
   "name": "python",
   "nbconvert_exporter": "python",
   "pygments_lexer": "ipython3",
   "version": "3.9.12"
  }
 },
 "nbformat": 4,
 "nbformat_minor": 5
}
